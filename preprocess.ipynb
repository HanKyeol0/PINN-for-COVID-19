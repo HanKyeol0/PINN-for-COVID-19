{
 "cells": [
  {
   "cell_type": "markdown",
   "metadata": {},
   "source": [
    "original_data.csv was from https://www.kaggle.com/datasets/imdevskp/corona-virus-report"
   ]
  },
  {
   "cell_type": "code",
   "execution_count": null,
   "metadata": {},
   "outputs": [],
   "source": [
    "import pandas as pd\n",
    "path = 'data/original_data.csv'\n",
    "df = pd.read_csv(path)"
   ]
  },
  {
   "cell_type": "code",
   "execution_count": null,
   "metadata": {},
   "outputs": [],
   "source": [
    "country = list(set(df['Country/Region']))\n",
    "all_countries = pd.DataFrame()\n",
    "for i in country:\n",
    "    country_df = df[df['Country/Region'] == i]\n",
    "    all_countries = pd.concat([all_countries, country_df])\n",
    "\n",
    "all_countries.to_csv('data/country_wise_data.csv', index=False)"
   ]
  },
  {
   "cell_type": "markdown",
   "metadata": {},
   "source": [
    "Another dataset:"
   ]
  },
  {
   "cell_type": "code",
   "execution_count": 2,
   "metadata": {},
   "outputs": [],
   "source": [
    "import pandas as pd\n",
    "path = 'data/WHO-COVID-19-global-daily-data.csv'\n",
    "df = pd.read_csv(path)"
   ]
  },
  {
   "cell_type": "code",
   "execution_count": null,
   "metadata": {},
   "outputs": [],
   "source": [
    "country = list(set(df['Country']))\n",
    "all_countries = pd.DataFrame()\n",
    "for i in country:\n",
    "    country_df = df[df['Country'] == i]\n",
    "    all_countries = pd.concat([all_countries, country_df])\n",
    "\n",
    "all_countries.to_csv('data/COVID_data.csv', index=False)"
   ]
  }
 ],
 "metadata": {
  "kernelspec": {
   "display_name": "base",
   "language": "python",
   "name": "python3"
  },
  "language_info": {
   "codemirror_mode": {
    "name": "ipython",
    "version": 3
   },
   "file_extension": ".py",
   "mimetype": "text/x-python",
   "name": "python",
   "nbconvert_exporter": "python",
   "pygments_lexer": "ipython3",
   "version": "3.10.9"
  }
 },
 "nbformat": 4,
 "nbformat_minor": 2
}
