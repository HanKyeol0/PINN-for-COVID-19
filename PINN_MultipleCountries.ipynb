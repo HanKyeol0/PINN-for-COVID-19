{
 "cells": [
  {
   "cell_type": "markdown",
   "metadata": {},
   "source": [
    "- MLP\n",
    "- Multiple countries\n",
    "- Trained on the whole sequence, not autoregressive"
   ]
  },
  {
   "cell_type": "code",
   "execution_count": 1,
   "metadata": {},
   "outputs": [],
   "source": [
    "import numpy as np\n",
    "import matplotlib.pyplot as plt\n",
    "import pandas as pd\n",
    "import os\n",
    "from datetime import datetime, timedelta\n",
    "import torch\n",
    "import torch.nn as nn\n",
    "import torch.optim as optim\n",
    "from torch.autograd import grad"
   ]
  },
  {
   "cell_type": "code",
   "execution_count": 2,
   "metadata": {},
   "outputs": [
    {
     "name": "stderr",
     "output_type": "stream",
     "text": [
      "C:\\Users\\hanky\\AppData\\Local\\Temp\\ipykernel_31268\\799233015.py:10: SettingWithCopyWarning: \n",
      "A value is trying to be set on a copy of a slice from a DataFrame.\n",
      "Try using .loc[row_indexer,col_indexer] = value instead\n",
      "\n",
      "See the caveats in the documentation: https://pandas.pydata.org/pandas-docs/stable/user_guide/indexing.html#returning-a-view-versus-a-copy\n",
      "  country_data[\"Date\"] = pd.to_datetime(country_data[\"Date\"])\n",
      "C:\\Users\\hanky\\AppData\\Local\\Temp\\ipykernel_31268\\799233015.py:11: SettingWithCopyWarning: \n",
      "A value is trying to be set on a copy of a slice from a DataFrame.\n",
      "Try using .loc[row_indexer,col_indexer] = value instead\n",
      "\n",
      "See the caveats in the documentation: https://pandas.pydata.org/pandas-docs/stable/user_guide/indexing.html#returning-a-view-versus-a-copy\n",
      "  country_data[\"Date\"] = (country_data[\"Date\"] - country_data[\"Date\"].iloc[0]).dt.days\n"
     ]
    }
   ],
   "source": [
    "# Load the CSV file\n",
    "path = \"data/country_wise_data.csv\"\n",
    "df = pd.read_csv(path)  # Replace with your file path\n",
    "\n",
    "country = 'US'\n",
    "kind = 'New cases' #[Confirmed, Deaths,\tRecovered, Active, New cases, New deaths, New recovered]\n",
    "\n",
    "# Filter rows for the coutry in the \"Country/Region\" column\n",
    "country_data = df[df[\"Country/Region\"] == country]\n",
    "country_data[\"Date\"] = pd.to_datetime(country_data[\"Date\"])\n",
    "country_data[\"Date\"] = (country_data[\"Date\"] - country_data[\"Date\"].iloc[0]).dt.days\n",
    "\n",
    "# Find the index of the first non-zero value in the \"New cases\" column\n",
    "first_non_zero_index = country_data[country_data[kind] != 0].index[0]\n",
    "# Slice the DataFrame to start from the first non-zero row\n",
    "country_data = country_data.loc[first_non_zero_index:]\n",
    "MAX = max(country_data[kind])\n",
    "country_data[kind] = country_data[kind]/MAX\n",
    "\n",
    "# Extract time (e.g., \"Date\") and target (e.g., \"New cases\") columns\n",
    "time_data = torch.tensor(country_data[\"Date\"].values, dtype=torch.float32).view(-1, 1)\n",
    "target_data = torch.tensor(country_data[\"New cases\"].values, dtype=torch.float32).view(-1, 1)"
   ]
  },
  {
   "cell_type": "code",
   "execution_count": null,
   "metadata": {},
   "outputs": [],
   "source": [
    "countries = {\"Republic of Korea\": {1: [20, 211], 2: [205, 295], 3: [295, 436]},\n",
    "            }"
   ]
  },
  {
   "cell_type": "code",
   "execution_count": 3,
   "metadata": {},
   "outputs": [],
   "source": [
    "def plot_predictions(t_data, y_data, t_train, y_train, t_predict, predicted_values, date_ticks, country, epoch):\n",
    "    \"\"\"\n",
    "    Plot predictions and training results.\n",
    "    \"\"\"\n",
    "    # Ensure the save directory exists\n",
    "    #if not os.path.exists(save_path):\n",
    "    #    os.makedirs(save_path)\n",
    "\n",
    "    fig, ax1 = plt.subplots(figsize=(18, 8))\n",
    "    plt.title(f\"{country}. Epoch: {epoch + 1}\")\n",
    "\n",
    "    # Original Data\n",
    "    ax1.plot(t_data, y_data, 'go', markersize=8, label='Reported data')\n",
    "\n",
    "    # Training Data\n",
    "    ax1.plot(t_data, y_train, 'ro', markersize=8, label='Training data')\n",
    "\n",
    "    # Predicted values\n",
    "    ax1.plot(t_predict, predicted_values, color=\"orange\", label=\"Predicted by PINN\")\n",
    "\n",
    "    # Format x-axis\n",
    "    ax1.set_xlabel(\"Date\")\n",
    "    ax1.set_ylabel(\"I(t)\", color=\"k\")\n",
    "    ax1.tick_params(axis='y', labelcolor=\"k\")\n",
    "    ax1.legend(loc=\"upper left\")\n",
    "    ax1.grid()\n",
    "\n",
    "    # Set date ticks\n",
    "    tick_labels = date_ticks[:len(t_data[::7])]\n",
    "    ax1.set_xticks(t_data[::7].flatten())\n",
    "    ax1.set_xticklabels(tick_labels, rotation=45, ha=\"right\", rotation_mode=\"anchor\")\n",
    "\n",
    "    # Plotting\n",
    "    plt.tight_layout()\n",
    "    plt.show()\n",
    "    plt.close()"
   ]
  }
 ],
 "metadata": {
  "kernelspec": {
   "display_name": "base",
   "language": "python",
   "name": "python3"
  },
  "language_info": {
   "codemirror_mode": {
    "name": "ipython",
    "version": 3
   },
   "file_extension": ".py",
   "mimetype": "text/x-python",
   "name": "python",
   "nbconvert_exporter": "python",
   "pygments_lexer": "ipython3",
   "version": "3.10.9"
  }
 },
 "nbformat": 4,
 "nbformat_minor": 2
}
